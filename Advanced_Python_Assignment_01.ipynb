{
 "cells": [
  {
   "cell_type": "markdown",
   "id": "974bc938",
   "metadata": {},
   "source": [
    "# Q1. What is the purpose of Python's OOP?\n",
    "\n",
    "ANSWER- The purpose of python OOP(Object Oriented Programming) is a powerful tool for creating flexible and maintainable code.OOPs is to help programmers create modular and reusable code.Python programmes can take advantage of many benefits,such as: Encapsulation,Abstraction,Inheritance and Polymorphism."
   ]
  },
  {
   "cell_type": "markdown",
   "id": "cb163c3b",
   "metadata": {},
   "source": [
    "# Q2. Where does an inheritance search look for an attribute?\n",
    "\n",
    "ANSWER- Python searches for an attribute in an upward tree of attributes,it first searches for the attribute in its instance and then looks in the class it is generated from,to all super classes listed in its class header."
   ]
  },
  {
   "cell_type": "markdown",
   "id": "ccfd723f",
   "metadata": {},
   "source": [
    "# Q3. How do you distinguish between a class object and an instance object?\n",
    "\n",
    "ANSWER- Class object is the blueprint for creating objects,while an instance object is a specific object created from that blueprint.\n"
   ]
  },
  {
   "cell_type": "code",
   "execution_count": null,
   "id": "c7f122ff",
   "metadata": {},
   "outputs": [],
   "source": [
    "#example of class object\n",
    "class Car:\n",
    "    #attributes and methods here\n",
    "    \n",
    "    "
   ]
  },
  {
   "cell_type": "code",
   "execution_count": null,
   "id": "95eeb0fb",
   "metadata": {},
   "outputs": [],
   "source": [
    "#example of instance object\n",
    "my_car=Car()"
   ]
  },
  {
   "cell_type": "markdown",
   "id": "e418c3a9",
   "metadata": {},
   "source": [
    "# Q4. What makes the first argument in a class’s method function special?\n",
    "\n",
    "ANSWER- In python first argument in a class method function is conventionally named 'self' or may be you can use any valid variable name.First argument is special because it refers to the instance of the class on which the method is being called. "
   ]
  },
  {
   "cell_type": "markdown",
   "id": "d00df1fe",
   "metadata": {},
   "source": [
    "# Q5. What is the purpose of the __init__ method?\n",
    "\n",
    "ANSWER- In python __init__ method is a special method also called a constructor that is automatically called when an instance of a class is created."
   ]
  },
  {
   "cell_type": "code",
   "execution_count": 1,
   "id": "06ac205b",
   "metadata": {},
   "outputs": [],
   "source": [
    "class bike:\n",
    "    def __init__(self, make, model, year):\n",
    "        self.make = make\n",
    "        self.model = model\n",
    "        self.year = year\n",
    "\n",
    "my_bike = bike(\"Honda\", \"pulsar\", 2021)\n"
   ]
  },
  {
   "cell_type": "markdown",
   "id": "08513c64",
   "metadata": {},
   "source": [
    "# Q6. What is the process for creating a class instance?\n",
    "\n",
    "ANSWER- To create a class instance,we need to call the class by its name and pass the arguments to the class,which its init method accepts."
   ]
  },
  {
   "cell_type": "code",
   "execution_count": 1,
   "id": "91579ab7",
   "metadata": {},
   "outputs": [],
   "source": [
    "class person:\n",
    "    def __init__(self, name, age):\n",
    "        self.name = name\n",
    "        self.age = age\n",
    "\n",
    "person1 = person(\"John\", 30)#person1 is instance of person class with attributes john,30\n"
   ]
  },
  {
   "cell_type": "markdown",
   "id": "e0a67ba3",
   "metadata": {},
   "source": [
    "# Q7. What is the process for creating a class?\n",
    "\n",
    "ANSWER- To create a class the class keyword is used in python.\n",
    "        class Car: ->this creates a class called Car"
   ]
  },
  {
   "cell_type": "markdown",
   "id": "5ab69969",
   "metadata": {},
   "source": [
    "# Q8. How would you define the superclasses of a class?\n",
    "\n",
    "ANSWER- class Car(Vehicle): ->here child class Car inherits attributes and methods from superclass Vehicle"
   ]
  },
  {
   "cell_type": "code",
   "execution_count": null,
   "id": "8523488b",
   "metadata": {},
   "outputs": [],
   "source": [
    "################################################################"
   ]
  }
 ],
 "metadata": {
  "kernelspec": {
   "display_name": "Python 3 (ipykernel)",
   "language": "python",
   "name": "python3"
  },
  "language_info": {
   "codemirror_mode": {
    "name": "ipython",
    "version": 3
   },
   "file_extension": ".py",
   "mimetype": "text/x-python",
   "name": "python",
   "nbconvert_exporter": "python",
   "pygments_lexer": "ipython3",
   "version": "3.9.12"
  }
 },
 "nbformat": 4,
 "nbformat_minor": 5
}
